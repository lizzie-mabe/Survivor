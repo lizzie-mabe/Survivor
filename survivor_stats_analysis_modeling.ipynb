{
 "cells": [
  {
   "cell_type": "markdown",
   "metadata": {},
   "source": [
    "Import Packages"
   ]
  },
  {
   "cell_type": "code",
   "execution_count": 1,
   "metadata": {},
   "outputs": [],
   "source": [
    "import pandas as pd\n",
    "import matplotlib.pyplot as plt\n",
    "from sklearn.model_selection import train_test_split\n",
    "from sklearn.preprocessing import StandardScaler\n",
    "from sklearn.ensemble import RandomForestClassifier\n",
    "from sklearn.metrics import accuracy_score\n",
    "from sklearn.metrics import confusion_matrix, ConfusionMatrixDisplay\n",
    "from imblearn.over_sampling import SMOTE\n",
    "from sklearn.metrics import roc_auc_score, roc_curve, auc\n",
    "import warnings\n",
    "import numpy as np\n",
    "import xgboost as xgb\n",
    "from xgboost import XGBClassifier\n",
    "from sklearn.linear_model import LogisticRegression\n",
    "import re\n",
    "import statsmodels.api as sm"
   ]
  },
  {
   "cell_type": "markdown",
   "metadata": {},
   "source": [
    "Read in Voting and Challenge Data"
   ]
  },
  {
   "cell_type": "code",
   "execution_count": 2,
   "metadata": {},
   "outputs": [],
   "source": [
    "path = '/workspaces/myfolder/survivor_data.csv'\n",
    "survivor = pd.read_csv(path)"
   ]
  },
  {
   "cell_type": "markdown",
   "metadata": {},
   "source": [
    "I want to ensure my data looks correct by ensuring there are 47 winners for 47 seasons. I also create a binary variable to flag winners and create a separate dataframe with only the Survivor winners."
   ]
  },
  {
   "cell_type": "code",
   "execution_count": 3,
   "metadata": {},
   "outputs": [
    {
     "data": {
      "text/plain": [
       "Winner\n",
       "False    810\n",
       "True      47\n",
       "Name: count, dtype: int64"
      ]
     },
     "execution_count": 3,
     "metadata": {},
     "output_type": "execute_result"
    }
   ],
   "source": [
    "survivor['Winner'] = survivor['Finish']==1\n",
    "survivor['Winner'].value_counts()"
   ]
  },
  {
   "cell_type": "code",
   "execution_count": 4,
   "metadata": {},
   "outputs": [],
   "source": [
    "winners = survivor[survivor['Winner'] == 1]"
   ]
  },
  {
   "cell_type": "markdown",
   "metadata": {},
   "source": [
    "Spoilers ahead! I made a list of the winner for each season."
   ]
  },
  {
   "cell_type": "code",
   "execution_count": 5,
   "metadata": {},
   "outputs": [
    {
     "name": "stdout",
     "output_type": "stream",
     "text": [
      "     Season          contestant\n",
      "0         1       Richard Hatch\n",
      "16        2         Tina Wesson\n",
      "32        3          Ethan Zohn\n",
      "48        4      Vecepia Towery\n",
      "64        5        Brian Heidik\n",
      "80        6       Jenna Morasca\n",
      "96        7   Sandra Diaz-Twine\n",
      "112       8        Amber Brkich\n",
      "130       9     Chris Daugherty\n",
      "148      10         Tom Westman\n",
      "168      11    Danni Boatwright\n",
      "186      12     Aras Baskauskas\n",
      "202      13            Yul Kwon\n",
      "222      14           Earl Cole\n",
      "241      15         Todd Herzog\n",
      "257      16     Parvati Shallow\n",
      "277      17         Bob Crowley\n",
      "295      18         J.T. Thomas\n",
      "311      19       Natalie White\n",
      "331      20   Sandra Diaz-Twine\n",
      "351      21         Fabio Birza\n",
      "371      22  Boston Rob Mariano\n",
      "390      23       Sophie Clarke\n",
      "407      24        Kim Spradlin\n",
      "426      25      Denise Stapley\n",
      "443      26        John Cochran\n",
      "463      27       Tyson Apostol\n",
      "483      28        Tony Vlachos\n",
      "501      29    Natalie Anderson\n",
      "519      30       Mike Holloway\n",
      "543      31      Jeremy Collins\n",
      "572      32  Michele Fitzgerald\n",
      "575      33          Adam Klein\n",
      "596      34        Sarah Lacina\n",
      "615      35      Ben Driebergen\n",
      "634      36     Wendell Holland\n",
      "653      37         Nick Wilson\n",
      "674      38     Chris Underwood\n",
      "691      39       Tommy Sheehan\n",
      "711      40        Tony Vlachos\n",
      "731      41     Erika Casupanan\n",
      "759      42     Maryanne Oketch\n",
      "769      43         Mike Gabler\n",
      "790      44      Yam Yam Arocho\n",
      "816      45      Dee Valladares\n",
      "830      46        Kenzie Petty\n",
      "848      47       Rachel LaMont\n"
     ]
    }
   ],
   "source": [
    "print(winners[['Season','contestant']])"
   ]
  },
  {
   "cell_type": "markdown",
   "metadata": {},
   "source": [
    "How many male and female winners have there been? "
   ]
  },
  {
   "cell_type": "code",
   "execution_count": 6,
   "metadata": {},
   "outputs": [
    {
     "data": {
      "text/plain": [
       "Sex\n",
       "M    26\n",
       "F    21\n",
       "Name: count, dtype: int64"
      ]
     },
     "execution_count": 6,
     "metadata": {},
     "output_type": "execute_result"
    }
   ],
   "source": [
    "winners.loc[:, 'Sex'] = winners['Sex'].str.upper()\n",
    "winners['Sex'].value_counts()"
   ]
  },
  {
   "cell_type": "markdown",
   "metadata": {},
   "source": [
    "We see that male winners are slightly more common, with 26 male winners and 21 female winners."
   ]
  },
  {
   "cell_type": "markdown",
   "metadata": {},
   "source": [
    "### Individual immunity challenge stats\n",
    "\n",
    "Of the winners, which are the challenge beasts? First, a list of winners with four or more individual immunity challenge wins."
   ]
  },
  {
   "cell_type": "code",
   "execution_count": 7,
   "metadata": {},
   "outputs": [
    {
     "data": {
      "text/html": [
       "<div>\n",
       "<style scoped>\n",
       "    .dataframe tbody tr th:only-of-type {\n",
       "        vertical-align: middle;\n",
       "    }\n",
       "\n",
       "    .dataframe tbody tr th {\n",
       "        vertical-align: top;\n",
       "    }\n",
       "\n",
       "    .dataframe thead th {\n",
       "        text-align: right;\n",
       "    }\n",
       "</style>\n",
       "<table border=\"1\" class=\"dataframe\">\n",
       "  <thead>\n",
       "    <tr style=\"text-align: right;\">\n",
       "      <th></th>\n",
       "      <th>Season</th>\n",
       "      <th>Contestant</th>\n",
       "      <th>Number of Individual Immunity Challenge Wins</th>\n",
       "    </tr>\n",
       "  </thead>\n",
       "  <tbody>\n",
       "    <tr>\n",
       "      <th>148</th>\n",
       "      <td>10</td>\n",
       "      <td>Tom Westman</td>\n",
       "      <td>5</td>\n",
       "    </tr>\n",
       "    <tr>\n",
       "      <th>519</th>\n",
       "      <td>30</td>\n",
       "      <td>Mike Holloway</td>\n",
       "      <td>5</td>\n",
       "    </tr>\n",
       "    <tr>\n",
       "      <th>351</th>\n",
       "      <td>21</td>\n",
       "      <td>Fabio Birza</td>\n",
       "      <td>4</td>\n",
       "    </tr>\n",
       "    <tr>\n",
       "      <th>80</th>\n",
       "      <td>6</td>\n",
       "      <td>Jenna Morasca</td>\n",
       "      <td>4</td>\n",
       "    </tr>\n",
       "    <tr>\n",
       "      <th>371</th>\n",
       "      <td>22</td>\n",
       "      <td>Boston Rob Mariano</td>\n",
       "      <td>4</td>\n",
       "    </tr>\n",
       "    <tr>\n",
       "      <th>407</th>\n",
       "      <td>24</td>\n",
       "      <td>Kim Spradlin</td>\n",
       "      <td>4</td>\n",
       "    </tr>\n",
       "    <tr>\n",
       "      <th>711</th>\n",
       "      <td>40</td>\n",
       "      <td>Tony Vlachos</td>\n",
       "      <td>4</td>\n",
       "    </tr>\n",
       "    <tr>\n",
       "      <th>848</th>\n",
       "      <td>47</td>\n",
       "      <td>Rachel LaMont</td>\n",
       "      <td>4</td>\n",
       "    </tr>\n",
       "  </tbody>\n",
       "</table>\n",
       "</div>"
      ],
      "text/plain": [
       "     Season          Contestant  Number of Individual Immunity Challenge Wins\n",
       "148      10         Tom Westman                                             5\n",
       "519      30       Mike Holloway                                             5\n",
       "351      21         Fabio Birza                                             4\n",
       "80        6       Jenna Morasca                                             4\n",
       "371      22  Boston Rob Mariano                                             4\n",
       "407      24        Kim Spradlin                                             4\n",
       "711      40        Tony Vlachos                                             4\n",
       "848      47       Rachel LaMont                                             4"
      ]
     },
     "execution_count": 7,
     "metadata": {},
     "output_type": "execute_result"
    }
   ],
   "source": [
    "challenge_winners = winners[winners['InICW'] >= 4][['Season', 'contestant', 'InICW']].sort_values(by='InICW', ascending=False)\n",
    "challenge_winners.columns = ['Season', 'Contestant', 'Number of Individual Immunity Challenge Wins']\n",
    "challenge_winners"
   ]
  },
  {
   "cell_type": "markdown",
   "metadata": {},
   "source": [
    "Next, let's look at the entire dataset, not just winners. Which are the elite Survivor competitors with FIVE immunity challenge wins? "
   ]
  },
  {
   "cell_type": "code",
   "execution_count": 8,
   "metadata": {},
   "outputs": [
    {
     "data": {
      "text/html": [
       "<div>\n",
       "<style scoped>\n",
       "    .dataframe tbody tr th:only-of-type {\n",
       "        vertical-align: middle;\n",
       "    }\n",
       "\n",
       "    .dataframe tbody tr th {\n",
       "        vertical-align: top;\n",
       "    }\n",
       "\n",
       "    .dataframe thead th {\n",
       "        text-align: right;\n",
       "    }\n",
       "</style>\n",
       "<table border=\"1\" class=\"dataframe\">\n",
       "  <thead>\n",
       "    <tr style=\"text-align: right;\">\n",
       "      <th></th>\n",
       "      <th>Season</th>\n",
       "      <th>contestant</th>\n",
       "      <th>InICW</th>\n",
       "    </tr>\n",
       "  </thead>\n",
       "  <tbody>\n",
       "    <tr>\n",
       "      <th>17</th>\n",
       "      <td>2</td>\n",
       "      <td>Colby Donaldson</td>\n",
       "      <td>5</td>\n",
       "    </tr>\n",
       "    <tr>\n",
       "      <th>148</th>\n",
       "      <td>10</td>\n",
       "      <td>Tom Westman</td>\n",
       "      <td>5</td>\n",
       "    </tr>\n",
       "    <tr>\n",
       "      <th>188</th>\n",
       "      <td>12</td>\n",
       "      <td>Terry Deitz</td>\n",
       "      <td>5</td>\n",
       "    </tr>\n",
       "    <tr>\n",
       "      <th>203</th>\n",
       "      <td>13</td>\n",
       "      <td>Ozzy Lusth</td>\n",
       "      <td>5</td>\n",
       "    </tr>\n",
       "    <tr>\n",
       "      <th>519</th>\n",
       "      <td>30</td>\n",
       "      <td>Mike Holloway</td>\n",
       "      <td>5</td>\n",
       "    </tr>\n",
       "    <tr>\n",
       "      <th>595</th>\n",
       "      <td>34</td>\n",
       "      <td>Brad Culpepper</td>\n",
       "      <td>5</td>\n",
       "    </tr>\n",
       "  </tbody>\n",
       "</table>\n",
       "</div>"
      ],
      "text/plain": [
       "     Season       contestant  InICW\n",
       "17        2  Colby Donaldson      5\n",
       "148      10      Tom Westman      5\n",
       "188      12      Terry Deitz      5\n",
       "203      13       Ozzy Lusth      5\n",
       "519      30    Mike Holloway      5\n",
       "595      34   Brad Culpepper      5"
      ]
     },
     "execution_count": 8,
     "metadata": {},
     "output_type": "execute_result"
    }
   ],
   "source": [
    "survivor[survivor['InICW'] >= 5][['Season', 'contestant', 'InICW']].sort_values(by='InICW', ascending=False)"
   ]
  },
  {
   "cell_type": "markdown",
   "metadata": {},
   "source": [
    "### Team Challenge Stats\n",
    "\n",
    "Of the winners, which were able to win without ever winning a team immunity challenge? \n",
    "With the exception of Chris Underwood in season 38 who spent much of the season in exile, this means that these players had to participate in every tribal council the entire season. \n",
    "It also means they had the fewest possible former tribe mates on the jury. "
   ]
  },
  {
   "cell_type": "code",
   "execution_count": 9,
   "metadata": {},
   "outputs": [
    {
     "data": {
      "text/html": [
       "<div>\n",
       "<style scoped>\n",
       "    .dataframe tbody tr th:only-of-type {\n",
       "        vertical-align: middle;\n",
       "    }\n",
       "\n",
       "    .dataframe tbody tr th {\n",
       "        vertical-align: top;\n",
       "    }\n",
       "\n",
       "    .dataframe thead th {\n",
       "        text-align: right;\n",
       "    }\n",
       "</style>\n",
       "<table border=\"1\" class=\"dataframe\">\n",
       "  <thead>\n",
       "    <tr style=\"text-align: right;\">\n",
       "      <th></th>\n",
       "      <th>Season</th>\n",
       "      <th>Contestant</th>\n",
       "    </tr>\n",
       "  </thead>\n",
       "  <tbody>\n",
       "    <tr>\n",
       "      <th>426</th>\n",
       "      <td>25</td>\n",
       "      <td>Denise Stapley</td>\n",
       "    </tr>\n",
       "    <tr>\n",
       "      <th>674</th>\n",
       "      <td>38</td>\n",
       "      <td>Chris Underwood</td>\n",
       "    </tr>\n",
       "    <tr>\n",
       "      <th>790</th>\n",
       "      <td>44</td>\n",
       "      <td>Yam Yam Arocho</td>\n",
       "    </tr>\n",
       "  </tbody>\n",
       "</table>\n",
       "</div>"
      ],
      "text/plain": [
       "     Season       Contestant\n",
       "426      25   Denise Stapley\n",
       "674      38  Chris Underwood\n",
       "790      44   Yam Yam Arocho"
      ]
     },
     "execution_count": 9,
     "metadata": {},
     "output_type": "execute_result"
    }
   ],
   "source": [
    "team_losers = winners[winners['TICW']==0][['Season', 'contestant']]\n",
    "team_losers.columns = ['Season', 'Contestant']\n",
    "team_losers"
   ]
  },
  {
   "cell_type": "markdown",
   "metadata": {},
   "source": [
    "### Voting Record Stats\n",
    "\n",
    "Let's look at the vote for boot percentage for the winners. Out of all the tribal councils these winners participated in, in how many did they vote for the person who went home? Put simply, how often were these players on the right side of the vote? "
   ]
  },
  {
   "cell_type": "code",
   "execution_count": 10,
   "metadata": {},
   "outputs": [],
   "source": [
    "#convert VFB% to a numeric\n",
    "winners.loc[:,'VFB%'] = winners['VFB%'].astype(float)"
   ]
  },
  {
   "cell_type": "markdown",
   "metadata": {},
   "source": [
    "Which winners had a perfect record? (100%)"
   ]
  },
  {
   "cell_type": "code",
   "execution_count": 11,
   "metadata": {},
   "outputs": [
    {
     "data": {
      "text/html": [
       "<div>\n",
       "<style scoped>\n",
       "    .dataframe tbody tr th:only-of-type {\n",
       "        vertical-align: middle;\n",
       "    }\n",
       "\n",
       "    .dataframe tbody tr th {\n",
       "        vertical-align: top;\n",
       "    }\n",
       "\n",
       "    .dataframe thead th {\n",
       "        text-align: right;\n",
       "    }\n",
       "</style>\n",
       "<table border=\"1\" class=\"dataframe\">\n",
       "  <thead>\n",
       "    <tr style=\"text-align: right;\">\n",
       "      <th></th>\n",
       "      <th>Season</th>\n",
       "      <th>Contestant</th>\n",
       "    </tr>\n",
       "  </thead>\n",
       "  <tbody>\n",
       "    <tr>\n",
       "      <th>16</th>\n",
       "      <td>2</td>\n",
       "      <td>Tina Wesson</td>\n",
       "    </tr>\n",
       "    <tr>\n",
       "      <th>32</th>\n",
       "      <td>3</td>\n",
       "      <td>Ethan Zohn</td>\n",
       "    </tr>\n",
       "    <tr>\n",
       "      <th>64</th>\n",
       "      <td>5</td>\n",
       "      <td>Brian Heidik</td>\n",
       "    </tr>\n",
       "    <tr>\n",
       "      <th>112</th>\n",
       "      <td>8</td>\n",
       "      <td>Amber Brkich</td>\n",
       "    </tr>\n",
       "    <tr>\n",
       "      <th>202</th>\n",
       "      <td>13</td>\n",
       "      <td>Yul Kwon</td>\n",
       "    </tr>\n",
       "    <tr>\n",
       "      <th>241</th>\n",
       "      <td>15</td>\n",
       "      <td>Todd Herzog</td>\n",
       "    </tr>\n",
       "    <tr>\n",
       "      <th>257</th>\n",
       "      <td>16</td>\n",
       "      <td>Parvati Shallow</td>\n",
       "    </tr>\n",
       "    <tr>\n",
       "      <th>311</th>\n",
       "      <td>19</td>\n",
       "      <td>Natalie White</td>\n",
       "    </tr>\n",
       "    <tr>\n",
       "      <th>483</th>\n",
       "      <td>28</td>\n",
       "      <td>Tony Vlachos</td>\n",
       "    </tr>\n",
       "  </tbody>\n",
       "</table>\n",
       "</div>"
      ],
      "text/plain": [
       "     Season       Contestant\n",
       "16        2      Tina Wesson\n",
       "32        3       Ethan Zohn\n",
       "64        5     Brian Heidik\n",
       "112       8     Amber Brkich\n",
       "202      13         Yul Kwon\n",
       "241      15      Todd Herzog\n",
       "257      16  Parvati Shallow\n",
       "311      19    Natalie White\n",
       "483      28     Tony Vlachos"
      ]
     },
     "execution_count": 11,
     "metadata": {},
     "output_type": "execute_result"
    }
   ],
   "source": [
    "vote_record = winners[winners['VFB%']==1][['Season', 'contestant']]\n",
    "vote_record.columns = ['Season', 'Contestant']\n",
    "vote_record"
   ]
  },
  {
   "cell_type": "code",
   "execution_count": 12,
   "metadata": {},
   "outputs": [
    {
     "data": {
      "text/plain": [
       "0.44"
      ]
     },
     "execution_count": 12,
     "metadata": {},
     "output_type": "execute_result"
    }
   ],
   "source": [
    "winners['VFB%'].min()"
   ]
  },
  {
   "cell_type": "markdown",
   "metadata": {},
   "source": [
    "Which winners had the lowest record? (<=70%)"
   ]
  },
  {
   "cell_type": "code",
   "execution_count": 13,
   "metadata": {},
   "outputs": [
    {
     "data": {
      "text/html": [
       "<div>\n",
       "<style scoped>\n",
       "    .dataframe tbody tr th:only-of-type {\n",
       "        vertical-align: middle;\n",
       "    }\n",
       "\n",
       "    .dataframe tbody tr th {\n",
       "        vertical-align: top;\n",
       "    }\n",
       "\n",
       "    .dataframe thead th {\n",
       "        text-align: right;\n",
       "    }\n",
       "</style>\n",
       "<table border=\"1\" class=\"dataframe\">\n",
       "  <thead>\n",
       "    <tr style=\"text-align: right;\">\n",
       "      <th></th>\n",
       "      <th>Season</th>\n",
       "      <th>contestant</th>\n",
       "      <th>VFB%</th>\n",
       "    </tr>\n",
       "  </thead>\n",
       "  <tbody>\n",
       "    <tr>\n",
       "      <th>816</th>\n",
       "      <td>45</td>\n",
       "      <td>Dee Valladares</td>\n",
       "      <td>0.44</td>\n",
       "    </tr>\n",
       "    <tr>\n",
       "      <th>277</th>\n",
       "      <td>17</td>\n",
       "      <td>Bob Crowley</td>\n",
       "      <td>0.56</td>\n",
       "    </tr>\n",
       "    <tr>\n",
       "      <th>351</th>\n",
       "      <td>21</td>\n",
       "      <td>Fabio Birza</td>\n",
       "      <td>0.6</td>\n",
       "    </tr>\n",
       "    <tr>\n",
       "      <th>543</th>\n",
       "      <td>31</td>\n",
       "      <td>Jeremy Collins</td>\n",
       "      <td>0.64</td>\n",
       "    </tr>\n",
       "    <tr>\n",
       "      <th>443</th>\n",
       "      <td>26</td>\n",
       "      <td>John Cochran</td>\n",
       "      <td>0.67</td>\n",
       "    </tr>\n",
       "    <tr>\n",
       "      <th>572</th>\n",
       "      <td>32</td>\n",
       "      <td>Michele Fitzgerald</td>\n",
       "      <td>0.67</td>\n",
       "    </tr>\n",
       "    <tr>\n",
       "      <th>711</th>\n",
       "      <td>40</td>\n",
       "      <td>Tony Vlachos</td>\n",
       "      <td>0.67</td>\n",
       "    </tr>\n",
       "    <tr>\n",
       "      <th>790</th>\n",
       "      <td>44</td>\n",
       "      <td>Yam Yam Arocho</td>\n",
       "      <td>0.7</td>\n",
       "    </tr>\n",
       "    <tr>\n",
       "      <th>848</th>\n",
       "      <td>47</td>\n",
       "      <td>Rachel LaMont</td>\n",
       "      <td>0.7</td>\n",
       "    </tr>\n",
       "  </tbody>\n",
       "</table>\n",
       "</div>"
      ],
      "text/plain": [
       "     Season          contestant  VFB%\n",
       "816      45      Dee Valladares  0.44\n",
       "277      17         Bob Crowley  0.56\n",
       "351      21         Fabio Birza   0.6\n",
       "543      31      Jeremy Collins  0.64\n",
       "443      26        John Cochran  0.67\n",
       "572      32  Michele Fitzgerald  0.67\n",
       "711      40        Tony Vlachos  0.67\n",
       "790      44      Yam Yam Arocho   0.7\n",
       "848      47       Rachel LaMont   0.7"
      ]
     },
     "execution_count": 13,
     "metadata": {},
     "output_type": "execute_result"
    }
   ],
   "source": [
    "winners[winners['VFB%']<=.7][['Season', 'contestant', 'VFB%']].sort_values(by='VFB%')"
   ]
  },
  {
   "cell_type": "markdown",
   "metadata": {},
   "source": [
    "I was also curious how this has changed over time. I would assume that as the game has gotten more complicated, voting for the correct person every time would become more difficult. In the plot, we see a slight downward trend in voting record. "
   ]
  },
  {
   "cell_type": "code",
   "execution_count": 14,
   "metadata": {},
   "outputs": [
    {
     "data": {
      "text/plain": [
       "Text(0, 0.5, 'Vote for Boot %')"
      ]
     },
     "execution_count": 14,
     "metadata": {},
     "output_type": "execute_result"
    },
    {
     "data": {
      "image/png": "[encoded data removed]",
      "text/plain": [
       "<Figure size 640x480 with 1 Axes>"
      ]
     },
     "metadata": {},
     "output_type": "display_data"
    }
   ],
   "source": [
    "plt.plot(winners['Season'], winners['VFB%'])\n",
    "\n",
    "# Add title and labels\n",
    "plt.title('Voting Record Over Seasons', fontsize=16, fontweight='bold')\n",
    "plt.xlabel('Season', fontsize=14)\n",
    "plt.ylabel('Vote for Boot %', fontsize=14)"
   ]
  },
  {
   "cell_type": "markdown",
   "metadata": {},
   "source": [
    "### Votes Against Player Stats \n",
    "\n",
    "How many votes did the winners receive without going home? First, these are the players who received the most votes over the course of their season. "
   ]
  },
  {
   "cell_type": "code",
   "execution_count": 15,
   "metadata": {},
   "outputs": [
    {
     "data": {
      "text/html": [
       "<div>\n",
       "<style scoped>\n",
       "    .dataframe tbody tr th:only-of-type {\n",
       "        vertical-align: middle;\n",
       "    }\n",
       "\n",
       "    .dataframe tbody tr th {\n",
       "        vertical-align: top;\n",
       "    }\n",
       "\n",
       "    .dataframe thead th {\n",
       "        text-align: right;\n",
       "    }\n",
       "</style>\n",
       "<table border=\"1\" class=\"dataframe\">\n",
       "  <thead>\n",
       "    <tr style=\"text-align: right;\">\n",
       "      <th></th>\n",
       "      <th>Season</th>\n",
       "      <th>contestant</th>\n",
       "      <th>VAP</th>\n",
       "    </tr>\n",
       "  </thead>\n",
       "  <tbody>\n",
       "    <tr>\n",
       "      <th>186</th>\n",
       "      <td>12</td>\n",
       "      <td>Aras Baskauskas</td>\n",
       "      <td>9</td>\n",
       "    </tr>\n",
       "    <tr>\n",
       "      <th>0</th>\n",
       "      <td>1</td>\n",
       "      <td>Richard Hatch</td>\n",
       "      <td>6</td>\n",
       "    </tr>\n",
       "    <tr>\n",
       "      <th>112</th>\n",
       "      <td>8</td>\n",
       "      <td>Amber Brkich</td>\n",
       "      <td>6</td>\n",
       "    </tr>\n",
       "    <tr>\n",
       "      <th>371</th>\n",
       "      <td>22</td>\n",
       "      <td>Boston Rob Mariano</td>\n",
       "      <td>6</td>\n",
       "    </tr>\n",
       "    <tr>\n",
       "      <th>426</th>\n",
       "      <td>25</td>\n",
       "      <td>Denise Stapley</td>\n",
       "      <td>6</td>\n",
       "    </tr>\n",
       "    <tr>\n",
       "      <th>575</th>\n",
       "      <td>33</td>\n",
       "      <td>Adam Klein</td>\n",
       "      <td>6</td>\n",
       "    </tr>\n",
       "    <tr>\n",
       "      <th>790</th>\n",
       "      <td>44</td>\n",
       "      <td>Yam Yam Arocho</td>\n",
       "      <td>6</td>\n",
       "    </tr>\n",
       "  </tbody>\n",
       "</table>\n",
       "</div>"
      ],
      "text/plain": [
       "     Season          contestant  VAP\n",
       "186      12     Aras Baskauskas    9\n",
       "0         1       Richard Hatch    6\n",
       "112       8        Amber Brkich    6\n",
       "371      22  Boston Rob Mariano    6\n",
       "426      25      Denise Stapley    6\n",
       "575      33          Adam Klein    6\n",
       "790      44      Yam Yam Arocho    6"
      ]
     },
     "execution_count": 15,
     "metadata": {},
     "output_type": "execute_result"
    }
   ],
   "source": [
    "winners[winners['VAP']>=6][['Season', 'contestant', 'VAP']].sort_values(by='VAP', ascending=False)"
   ]
  },
  {
   "cell_type": "markdown",
   "metadata": {},
   "source": [
    "Here are the players who never received a single vote."
   ]
  },
  {
   "cell_type": "code",
   "execution_count": 16,
   "metadata": {},
   "outputs": [
    {
     "data": {
      "text/html": [
       "<div>\n",
       "<style scoped>\n",
       "    .dataframe tbody tr th:only-of-type {\n",
       "        vertical-align: middle;\n",
       "    }\n",
       "\n",
       "    .dataframe tbody tr th {\n",
       "        vertical-align: top;\n",
       "    }\n",
       "\n",
       "    .dataframe thead th {\n",
       "        text-align: right;\n",
       "    }\n",
       "</style>\n",
       "<table border=\"1\" class=\"dataframe\">\n",
       "  <thead>\n",
       "    <tr style=\"text-align: right;\">\n",
       "      <th></th>\n",
       "      <th>Season</th>\n",
       "      <th>contestant</th>\n",
       "      <th>VAP</th>\n",
       "    </tr>\n",
       "  </thead>\n",
       "  <tbody>\n",
       "    <tr>\n",
       "      <th>16</th>\n",
       "      <td>2</td>\n",
       "      <td>Tina Wesson</td>\n",
       "      <td>0</td>\n",
       "    </tr>\n",
       "    <tr>\n",
       "      <th>32</th>\n",
       "      <td>3</td>\n",
       "      <td>Ethan Zohn</td>\n",
       "      <td>0</td>\n",
       "    </tr>\n",
       "    <tr>\n",
       "      <th>64</th>\n",
       "      <td>5</td>\n",
       "      <td>Brian Heidik</td>\n",
       "      <td>0</td>\n",
       "    </tr>\n",
       "    <tr>\n",
       "      <th>96</th>\n",
       "      <td>7</td>\n",
       "      <td>Sandra Diaz-Twine</td>\n",
       "      <td>0</td>\n",
       "    </tr>\n",
       "    <tr>\n",
       "      <th>148</th>\n",
       "      <td>10</td>\n",
       "      <td>Tom Westman</td>\n",
       "      <td>0</td>\n",
       "    </tr>\n",
       "    <tr>\n",
       "      <th>295</th>\n",
       "      <td>18</td>\n",
       "      <td>J.T. Thomas</td>\n",
       "      <td>0</td>\n",
       "    </tr>\n",
       "    <tr>\n",
       "      <th>443</th>\n",
       "      <td>26</td>\n",
       "      <td>John Cochran</td>\n",
       "      <td>0</td>\n",
       "    </tr>\n",
       "    <tr>\n",
       "      <th>501</th>\n",
       "      <td>29</td>\n",
       "      <td>Natalie Anderson</td>\n",
       "      <td>0</td>\n",
       "    </tr>\n",
       "    <tr>\n",
       "      <th>519</th>\n",
       "      <td>30</td>\n",
       "      <td>Mike Holloway</td>\n",
       "      <td>0</td>\n",
       "    </tr>\n",
       "    <tr>\n",
       "      <th>543</th>\n",
       "      <td>31</td>\n",
       "      <td>Jeremy Collins</td>\n",
       "      <td>0</td>\n",
       "    </tr>\n",
       "    <tr>\n",
       "      <th>596</th>\n",
       "      <td>34</td>\n",
       "      <td>Sarah Lacina</td>\n",
       "      <td>0</td>\n",
       "    </tr>\n",
       "    <tr>\n",
       "      <th>653</th>\n",
       "      <td>37</td>\n",
       "      <td>Nick Wilson</td>\n",
       "      <td>0</td>\n",
       "    </tr>\n",
       "    <tr>\n",
       "      <th>711</th>\n",
       "      <td>40</td>\n",
       "      <td>Tony Vlachos</td>\n",
       "      <td>0</td>\n",
       "    </tr>\n",
       "    <tr>\n",
       "      <th>769</th>\n",
       "      <td>43</td>\n",
       "      <td>Mike Gabler</td>\n",
       "      <td>0</td>\n",
       "    </tr>\n",
       "    <tr>\n",
       "      <th>848</th>\n",
       "      <td>47</td>\n",
       "      <td>Rachel LaMont</td>\n",
       "      <td>0</td>\n",
       "    </tr>\n",
       "  </tbody>\n",
       "</table>\n",
       "</div>"
      ],
      "text/plain": [
       "     Season         contestant  VAP\n",
       "16        2        Tina Wesson    0\n",
       "32        3         Ethan Zohn    0\n",
       "64        5       Brian Heidik    0\n",
       "96        7  Sandra Diaz-Twine    0\n",
       "148      10        Tom Westman    0\n",
       "295      18        J.T. Thomas    0\n",
       "443      26       John Cochran    0\n",
       "501      29   Natalie Anderson    0\n",
       "519      30      Mike Holloway    0\n",
       "543      31     Jeremy Collins    0\n",
       "596      34       Sarah Lacina    0\n",
       "653      37        Nick Wilson    0\n",
       "711      40       Tony Vlachos    0\n",
       "769      43        Mike Gabler    0\n",
       "848      47      Rachel LaMont    0"
      ]
     },
     "execution_count": 16,
     "metadata": {},
     "output_type": "execute_result"
    }
   ],
   "source": [
    "winners[winners['VAP']==0][['Season', 'contestant', 'VAP']]"
   ]
  },
  {
   "cell_type": "markdown",
   "metadata": {},
   "source": [
    "### Incorporating Idol Data\n",
    "\n",
    "In addition to voting and challenges, immunity idols are a huge part of the game. Which winners found the most idols and played them successfully? "
   ]
  },
  {
   "cell_type": "markdown",
   "metadata": {},
   "source": [
    "First, I read in the data and did some cleaning."
   ]
  },
  {
   "cell_type": "code",
   "execution_count": 17,
   "metadata": {},
   "outputs": [],
   "source": [
    "#reading in idol data\n",
    "idol_data = pd.read_csv('/workspaces/myfolder/survivor_idols.csv')\n",
    "\n",
    "#renaming contestant column to merge with survivor dataset\n",
    "idol_data.rename(columns={'Contestant': 'contestant'}, inplace=True)\n",
    "\n",
    "#Limiting to needed information\n",
    "idol_data = idol_data.iloc[:196]\n",
    "\n",
    "#removing dashes and digits from names\n",
    "idol_data['contestant'] = idol_data['contestant'].apply(lambda x: re.sub(r'(?<=\\d)-|-(?=\\d)|\\d', '', str(x)) if isinstance(x, str) else str(x))\n",
    "idol_data['Season'] = idol_data['Season'].apply(lambda x: re.sub(r'S', '', str(x)) if isinstance(x, str) else str(x))\n",
    "\n",
    "#changing season to numeric\n",
    "idol_data['Season'] = idol_data['Season'].astype(float)"
   ]
  },
  {
   "cell_type": "markdown",
   "metadata": {},
   "source": [
    "Roll up idol data to include only one row per player and season - include number of idols found, played, number of votes voided, boots voided, and max time between day found and played"
   ]
  },
  {
   "cell_type": "code",
   "execution_count": 18,
   "metadata": {},
   "outputs": [],
   "source": [
    "#Change columns to numeric\n",
    "idol_data[['Idols found', 'Idols played', 'Votes voided', 'Boot avoided']] = idol_data[['Idols found', 'Idols played', 'Votes voided', 'Boot avoided']].astype(float)\n",
    "\n",
    "#Roll up idol data by contestant and season \n",
    "idol_data_grouped = idol_data.groupby(['contestant', 'Season']).agg(\n",
    "    idols_found=('Idols found', 'sum'),  # Sum up idols found\n",
    "    idols_played=('Idols played', 'sum'),  # Sum up idols played\n",
    "    votes_voided=('Votes voided', 'sum'),  # Sum up votes voided\n",
    "    boots_avoided=('Boot avoided', 'sum'),  # Sum up boots voided\n",
    "    max_time_held=('Day played', lambda x: (x - idol_data.loc[x.index, 'Day found']).max())  # Max time between day found and played\n",
    ")\n",
    "\n"
   ]
  },
  {
   "cell_type": "markdown",
   "metadata": {},
   "source": [
    "Merge existing contestant and winner data with the idol information."
   ]
  },
  {
   "cell_type": "code",
   "execution_count": 19,
   "metadata": {},
   "outputs": [],
   "source": [
    "survivor_w_idols = pd.merge(survivor, idol_data_grouped, on=['contestant','Season'], how='left')\n",
    "winners_w_idols = pd.merge(winners, idol_data_grouped, on=['contestant','Season'], how='left')\n"
   ]
  },
  {
   "cell_type": "markdown",
   "metadata": {},
   "source": [
    "Which winners found the most idols in a single season?"
   ]
  },
  {
   "cell_type": "code",
   "execution_count": 20,
   "metadata": {},
   "outputs": [
    {
     "data": {
      "text/html": [
       "<div>\n",
       "<style scoped>\n",
       "    .dataframe tbody tr th:only-of-type {\n",
       "        vertical-align: middle;\n",
       "    }\n",
       "\n",
       "    .dataframe tbody tr th {\n",
       "        vertical-align: top;\n",
       "    }\n",
       "\n",
       "    .dataframe thead th {\n",
       "        text-align: right;\n",
       "    }\n",
       "</style>\n",
       "<table border=\"1\" class=\"dataframe\">\n",
       "  <thead>\n",
       "    <tr style=\"text-align: right;\">\n",
       "      <th></th>\n",
       "      <th>Season</th>\n",
       "      <th>contestant</th>\n",
       "      <th>idols_found</th>\n",
       "    </tr>\n",
       "  </thead>\n",
       "  <tbody>\n",
       "    <tr>\n",
       "      <th>27</th>\n",
       "      <td>28</td>\n",
       "      <td>Tony Vlachos</td>\n",
       "      <td>3.0</td>\n",
       "    </tr>\n",
       "    <tr>\n",
       "      <th>34</th>\n",
       "      <td>35</td>\n",
       "      <td>Ben Driebergen</td>\n",
       "      <td>3.0</td>\n",
       "    </tr>\n",
       "    <tr>\n",
       "      <th>26</th>\n",
       "      <td>27</td>\n",
       "      <td>Tyson Apostol</td>\n",
       "      <td>2.0</td>\n",
       "    </tr>\n",
       "    <tr>\n",
       "      <th>30</th>\n",
       "      <td>31</td>\n",
       "      <td>Jeremy Collins</td>\n",
       "      <td>2.0</td>\n",
       "    </tr>\n",
       "    <tr>\n",
       "      <th>32</th>\n",
       "      <td>33</td>\n",
       "      <td>Adam Klein</td>\n",
       "      <td>2.0</td>\n",
       "    </tr>\n",
       "    <tr>\n",
       "      <th>41</th>\n",
       "      <td>42</td>\n",
       "      <td>Maryanne Oketch</td>\n",
       "      <td>2.0</td>\n",
       "    </tr>\n",
       "  </tbody>\n",
       "</table>\n",
       "</div>"
      ],
      "text/plain": [
       "    Season       contestant  idols_found\n",
       "27      28     Tony Vlachos          3.0\n",
       "34      35   Ben Driebergen          3.0\n",
       "26      27    Tyson Apostol          2.0\n",
       "30      31   Jeremy Collins          2.0\n",
       "32      33       Adam Klein          2.0\n",
       "41      42  Maryanne Oketch          2.0"
      ]
     },
     "execution_count": 20,
     "metadata": {},
     "output_type": "execute_result"
    }
   ],
   "source": [
    "winners_w_idols[winners_w_idols['idols_found']>=2][['Season', 'contestant', 'idols_found']].sort_values(by='idols_found', ascending=False)"
   ]
  },
  {
   "cell_type": "markdown",
   "metadata": {},
   "source": [
    "Without isolating to only winners, which contestants found the most idols in one season?"
   ]
  },
  {
   "cell_type": "code",
   "execution_count": 21,
   "metadata": {},
   "outputs": [
    {
     "data": {
      "text/html": [
       "<div>\n",
       "<style scoped>\n",
       "    .dataframe tbody tr th:only-of-type {\n",
       "        vertical-align: middle;\n",
       "    }\n",
       "\n",
       "    .dataframe tbody tr th {\n",
       "        vertical-align: top;\n",
       "    }\n",
       "\n",
       "    .dataframe thead th {\n",
       "        text-align: right;\n",
       "    }\n",
       "</style>\n",
       "<table border=\"1\" class=\"dataframe\">\n",
       "  <thead>\n",
       "    <tr style=\"text-align: right;\">\n",
       "      <th></th>\n",
       "      <th>Season</th>\n",
       "      <th>contestant</th>\n",
       "      <th>idols_found</th>\n",
       "    </tr>\n",
       "  </thead>\n",
       "  <tbody>\n",
       "    <tr>\n",
       "      <th>675</th>\n",
       "      <td>38</td>\n",
       "      <td>Rick Devens</td>\n",
       "      <td>4.0</td>\n",
       "    </tr>\n",
       "    <tr>\n",
       "      <th>312</th>\n",
       "      <td>19</td>\n",
       "      <td>Russell Hantz</td>\n",
       "      <td>3.0</td>\n",
       "    </tr>\n",
       "    <tr>\n",
       "      <th>483</th>\n",
       "      <td>28</td>\n",
       "      <td>Tony Vlachos</td>\n",
       "      <td>3.0</td>\n",
       "    </tr>\n",
       "    <tr>\n",
       "      <th>602</th>\n",
       "      <td>34</td>\n",
       "      <td>Tai Trang</td>\n",
       "      <td>3.0</td>\n",
       "    </tr>\n",
       "    <tr>\n",
       "      <th>615</th>\n",
       "      <td>35</td>\n",
       "      <td>Ben Driebergen</td>\n",
       "      <td>3.0</td>\n",
       "    </tr>\n",
       "    <tr>\n",
       "      <th>704</th>\n",
       "      <td>39</td>\n",
       "      <td>Kellee Kim</td>\n",
       "      <td>3.0</td>\n",
       "    </tr>\n",
       "  </tbody>\n",
       "</table>\n",
       "</div>"
      ],
      "text/plain": [
       "     Season      contestant  idols_found\n",
       "675      38     Rick Devens          4.0\n",
       "312      19   Russell Hantz          3.0\n",
       "483      28    Tony Vlachos          3.0\n",
       "602      34       Tai Trang          3.0\n",
       "615      35  Ben Driebergen          3.0\n",
       "704      39      Kellee Kim          3.0"
      ]
     },
     "execution_count": 21,
     "metadata": {},
     "output_type": "execute_result"
    }
   ],
   "source": [
    "survivor_w_idols[survivor_w_idols['idols_found']>=3][['Season', 'contestant', 'idols_found']].sort_values(by='idols_found', ascending=False)"
   ]
  },
  {
   "cell_type": "markdown",
   "metadata": {},
   "source": [
    "While finding idols is impressive, they only help in the game if you *know how to use them.* Which winners used their idol to avoid being voted out?"
   ]
  },
  {
   "cell_type": "code",
   "execution_count": 22,
   "metadata": {},
   "outputs": [
    {
     "data": {
      "text/html": [
       "<div>\n",
       "<style scoped>\n",
       "    .dataframe tbody tr th:only-of-type {\n",
       "        vertical-align: middle;\n",
       "    }\n",
       "\n",
       "    .dataframe tbody tr th {\n",
       "        vertical-align: top;\n",
       "    }\n",
       "\n",
       "    .dataframe thead th {\n",
       "        text-align: right;\n",
       "    }\n",
       "</style>\n",
       "<table border=\"1\" class=\"dataframe\">\n",
       "  <thead>\n",
       "    <tr style=\"text-align: right;\">\n",
       "      <th></th>\n",
       "      <th>Season</th>\n",
       "      <th>contestant</th>\n",
       "      <th>boots_avoided</th>\n",
       "    </tr>\n",
       "  </thead>\n",
       "  <tbody>\n",
       "    <tr>\n",
       "      <th>34</th>\n",
       "      <td>35</td>\n",
       "      <td>Ben Driebergen</td>\n",
       "      <td>2.0</td>\n",
       "    </tr>\n",
       "    <tr>\n",
       "      <th>28</th>\n",
       "      <td>29</td>\n",
       "      <td>Natalie Anderson</td>\n",
       "      <td>1.0</td>\n",
       "    </tr>\n",
       "    <tr>\n",
       "      <th>29</th>\n",
       "      <td>30</td>\n",
       "      <td>Mike Holloway</td>\n",
       "      <td>1.0</td>\n",
       "    </tr>\n",
       "    <tr>\n",
       "      <th>30</th>\n",
       "      <td>31</td>\n",
       "      <td>Jeremy Collins</td>\n",
       "      <td>1.0</td>\n",
       "    </tr>\n",
       "    <tr>\n",
       "      <th>37</th>\n",
       "      <td>38</td>\n",
       "      <td>Chris Underwood</td>\n",
       "      <td>1.0</td>\n",
       "    </tr>\n",
       "    <tr>\n",
       "      <th>46</th>\n",
       "      <td>47</td>\n",
       "      <td>Rachel LaMont</td>\n",
       "      <td>1.0</td>\n",
       "    </tr>\n",
       "  </tbody>\n",
       "</table>\n",
       "</div>"
      ],
      "text/plain": [
       "    Season        contestant  boots_avoided\n",
       "34      35    Ben Driebergen            2.0\n",
       "28      29  Natalie Anderson            1.0\n",
       "29      30     Mike Holloway            1.0\n",
       "30      31    Jeremy Collins            1.0\n",
       "37      38   Chris Underwood            1.0\n",
       "46      47     Rachel LaMont            1.0"
      ]
     },
     "execution_count": 22,
     "metadata": {},
     "output_type": "execute_result"
    }
   ],
   "source": [
    "winners_w_idols[winners_w_idols['boots_avoided']>=1][['Season', 'contestant', 'boots_avoided']].sort_values(by='boots_avoided', ascending=False)"
   ]
  },
  {
   "cell_type": "markdown",
   "metadata": {},
   "source": [
    "And of all contestants, who avoided being voted out using an idol **the most?**"
   ]
  },
  {
   "cell_type": "code",
   "execution_count": 23,
   "metadata": {},
   "outputs": [
    {
     "data": {
      "text/html": [
       "<div>\n",
       "<style scoped>\n",
       "    .dataframe tbody tr th:only-of-type {\n",
       "        vertical-align: middle;\n",
       "    }\n",
       "\n",
       "    .dataframe tbody tr th {\n",
       "        vertical-align: top;\n",
       "    }\n",
       "\n",
       "    .dataframe thead th {\n",
       "        text-align: right;\n",
       "    }\n",
       "</style>\n",
       "<table border=\"1\" class=\"dataframe\">\n",
       "  <thead>\n",
       "    <tr style=\"text-align: right;\">\n",
       "      <th></th>\n",
       "      <th>Season</th>\n",
       "      <th>contestant</th>\n",
       "      <th>boots_avoided</th>\n",
       "    </tr>\n",
       "  </thead>\n",
       "  <tbody>\n",
       "    <tr>\n",
       "      <th>602</th>\n",
       "      <td>34</td>\n",
       "      <td>Tai Trang</td>\n",
       "      <td>3.0</td>\n",
       "    </tr>\n",
       "    <tr>\n",
       "      <th>615</th>\n",
       "      <td>35</td>\n",
       "      <td>Ben Driebergen</td>\n",
       "      <td>2.0</td>\n",
       "    </tr>\n",
       "    <tr>\n",
       "      <th>675</th>\n",
       "      <td>38</td>\n",
       "      <td>Rick Devens</td>\n",
       "      <td>2.0</td>\n",
       "    </tr>\n",
       "  </tbody>\n",
       "</table>\n",
       "</div>"
      ],
      "text/plain": [
       "     Season      contestant  boots_avoided\n",
       "602      34       Tai Trang            3.0\n",
       "615      35  Ben Driebergen            2.0\n",
       "675      38     Rick Devens            2.0"
      ]
     },
     "execution_count": 23,
     "metadata": {},
     "output_type": "execute_result"
    }
   ],
   "source": [
    "survivor_w_idols[survivor_w_idols['boots_avoided']>=2][['Season', 'contestant', 'boots_avoided']].sort_values(by='boots_avoided', ascending=False)"
   ]
  },
  {
   "cell_type": "markdown",
   "metadata": {},
   "source": [
    "## Model Building\n",
    "##### Now that we've explored our data, we want to see if we can create a model to predict the winner of the season based off of their stats! "
   ]
  },
  {
   "cell_type": "markdown",
   "metadata": {},
   "source": [
    "### Feature Engineering\n",
    "Any long-time viewer of the show will know that the game has changed dramatically over time. What used to be a simple survival show has become a complex game of deceit full of twists, advantages, and strategy. To account for this in modeling, I created some flags for different milestones in the game: the introduction of immunity idols, the fire challenge, and the so-called \"new era\" after season 40 (if you know you know). I also flagged any seasons that included returners, where I'd expect gameplay to be significantly different. "
   ]
  },
  {
   "cell_type": "code",
   "execution_count": 24,
   "metadata": {},
   "outputs": [],
   "source": [
    "#Feature engineering: new era flag, idols in play flag, fire challenge flag, returners season flag \n",
    "survivor_w_idols['new_era'] = survivor_w_idols['Season']>=41\n",
    "survivor_w_idols['idols_in_play'] = survivor_w_idols['Season']>=11\n",
    "survivor_w_idols['fire_challenge'] = survivor_w_idols['Season']>=35\n",
    "returner_seasons = [8,11,16,20,22,23,25,26,27,31,34,38,40]\n",
    "survivor_w_idols['returners'] = survivor_w_idols['Season'].apply(lambda x: 1 if x in returner_seasons else 0)"
   ]
  },
  {
   "cell_type": "code",
   "execution_count": 25,
   "metadata": {},
   "outputs": [],
   "source": [
    "survivor_w_idols = survivor_w_idols.replace('#DIV/0!', 0)\n",
    "survivor_w_idols = survivor_w_idols.fillna(0)"
   ]
  },
  {
   "cell_type": "markdown",
   "metadata": {},
   "source": [
    "I prepare the data for modeling by establishing my list of features, create my target (winner), and split into training and testing data. For my train-test split, I divide by season, since we want to be able to identify the winner of a season without training on anyone else from that season."
   ]
  },
  {
   "cell_type": "code",
   "execution_count": 26,
   "metadata": {},
   "outputs": [],
   "source": [
    "#Columns to use for model building: \n",
    "#VAP, VFB%, InChW%, TChW%, TRCW, idols_played, boots_avoided, new_era, idols_in_play, fire_challenge, returners"
   ]
  },
  {
   "cell_type": "code",
   "execution_count": 27,
   "metadata": {},
   "outputs": [],
   "source": [
    "features = ['VAP', 'VFB%', 'InChW%', 'TChW%', 'TRCW', 'idols_played', 'boots_avoided', 'new_era', 'idols_in_play', 'fire_challenge', 'returners', 'Season']\n",
    "target = ['Winner', 'Season']\n",
    "\n",
    "# Split the dataset into features and target\n",
    "X = survivor_w_idols[features]\n",
    "y = survivor_w_idols[target]\n",
    "\n",
    "# Set a random seed for reproducibility (optional)\n",
    "np.random.seed(42)\n",
    "\n",
    "# Shuffle the dataset based on seasons randomly\n",
    "unique_seasons = X['Season'].unique()\n",
    "np.random.shuffle(unique_seasons)\n",
    "\n",
    "# Choose the first 70% of the unique seasons for the training set and the remaining 30% for the testing set\n",
    "train_seasons = unique_seasons[:int(0.7 * len(unique_seasons))]\n",
    "test_seasons = unique_seasons[int(0.7 * len(unique_seasons)):]\n",
    "\n",
    "# Split data based on the random seasons\n",
    "X_train = X[X['Season'].isin(train_seasons)]\n",
    "X_test = X[X['Season'].isin(test_seasons)]\n",
    "y_train = y[y['Season'].isin(train_seasons)]\n",
    "y_test = y[y['Season'].isin(test_seasons)]\n",
    "\n",
    "# Drop the 'Season' column as it's no longer needed\n",
    "X_train = X_train.drop(columns=['Season'])\n",
    "X_test = X_test.drop(columns=['Season'])\n",
    "y_train = y_train.drop(columns=['Season'])\n",
    "y_test = y_test.drop(columns=['Season'])\n",
    "\n",
    "features = ['VAP', 'VFB%', 'InChW%', 'TChW%', 'TRCW', 'idols_played', 'boots_avoided', 'new_era', 'idols_in_play', 'fire_challenge', 'returners']\n"
   ]
  },
  {
   "cell_type": "markdown",
   "metadata": {},
   "source": [
    "Since there is only one winner per season and ~20 players, we have a rare event target. To account for this, I use SMOTE to balance events and non-events. "
   ]
  },
  {
   "cell_type": "code",
   "execution_count": 28,
   "metadata": {},
   "outputs": [],
   "source": [
    "# Oversample the minority class\n",
    "smote = SMOTE(random_state=42)\n",
    "X_resampled, y_resampled = smote.fit_resample(X_train, y_train)"
   ]
  },
  {
   "cell_type": "code",
   "execution_count": 29,
   "metadata": {},
   "outputs": [],
   "source": [
    "X_resampled = X_resampled[features].astype(float)\n",
    "X_test = X_test[features].astype(float)"
   ]
  },
  {
   "cell_type": "markdown",
   "metadata": {},
   "source": [
    "I am using XGBoost for my model. I am using GridSearchCV to find the optimal hyperparameters for the model. "
   ]
  },
  {
   "cell_type": "code",
   "execution_count": 30,
   "metadata": {},
   "outputs": [
    {
     "name": "stdout",
     "output_type": "stream",
     "text": [
      "Fitting 5 folds for each of 6561 candidates, totalling 32805 fits\n"
     ]
    },
    {
     "name": "stdout",
     "output_type": "stream",
     "text": [
      "Best parameters found:  {'colsample_bytree': 0.8, 'gamma': 0.1, 'learning_rate': 0.2, 'max_depth': 3, 'n_estimators': 20, 'reg_alpha': 1, 'reg_lambda': 1, 'subsample': 0.9}\n",
      "Test accuracy: 0.8795620437956204\n"
     ]
    }
   ],
   "source": [
    "from sklearn.model_selection import GridSearchCV\n",
    "import xgboost as xgb\n",
    "from xgboost import XGBClassifier\n",
    "\n",
    "# Define the parameter grid for XGBoost\n",
    "param_grid = {\n",
    "    'n_estimators': [10, 20, 30],        # Number of trees\n",
    "    'max_depth': [1, 2, 3],               # Maximum depth of a tree\n",
    "    'learning_rate': [0.01, 0.1, 0.2],     # Learning rate (shrinkage)\n",
    "    'subsample': [0.8, 0.9, 1.0],           # Subsample ratio of the training set\n",
    "    'colsample_bytree': [0.8, 0.9, 1.0],   # Subsample ratio of columns when constructing each tree\n",
    "    'gamma': [0, 0.1, 0.2],                # Minimum loss reduction required to make a further partition\n",
    "    'reg_alpha': [0, 0.1, 1],              # L1 regularization term on weights\n",
    "    'reg_lambda': [1, 1.5, 2]              # L2 regularization term on weights\n",
    "}\n",
    "\n",
    "# Initialize the XGBoost classifier\n",
    "model = XGBClassifier(random_state=42)\n",
    "\n",
    "# Set up GridSearchCV\n",
    "grid_search = GridSearchCV(estimator=model, param_grid=param_grid, \n",
    "                           scoring='accuracy', cv=5, n_jobs=-1, verbose=1)\n",
    "\n",
    "# Fit GridSearchCV on the training data\n",
    "grid_search.fit(X_resampled, y_resampled)\n",
    "\n",
    "# Best parameters found by GridSearchCV\n",
    "print(\"Best parameters found: \", grid_search.best_params_)\n",
    "\n",
    "# Get the best model from grid search\n",
    "best_model = grid_search.best_estimator_\n",
    "\n",
    "# Train the best model\n",
    "best_model.fit(X_resampled, y_resampled)\n",
    "\n",
    "# Evaluate the model on the test set\n",
    "print(f\"Test accuracy: {best_model.score(X_test, y_test)}\")\n"
   ]
  },
  {
   "cell_type": "markdown",
   "metadata": {},
   "source": [
    "Once I've created the model, I look at the AUC score to determine how well my model is performing and visualize the ROC curve to determine the best cutoff."
   ]
  },
  {
   "cell_type": "code",
   "execution_count": 31,
   "metadata": {},
   "outputs": [
    {
     "name": "stdout",
     "output_type": "stream",
     "text": [
      "AUC: 0.7792792792792792%\n"
     ]
    }
   ],
   "source": [
    "# Get prediction probabilities\n",
    "y_proba = best_model.predict_proba(X_test)[:, 1]\n",
    "y_pred = best_model.predict(X_test)\n",
    "y_test = y_test.astype(float)\n",
    "\n",
    "\n",
    "# Calculate accuracy\n",
    "auc = roc_auc_score(y_test, y_pred)\n",
    "print(f\"AUC: {auc}%\")"
   ]
  },
  {
   "cell_type": "code",
   "execution_count": 32,
   "metadata": {},
   "outputs": [
    {
     "name": "stdout",
     "output_type": "stream",
     "text": [
      "AUC: 0.78\n"
     ]
    },
    {
     "data": {
      "image/png": "[encoded data removed]",
      "text/plain": [
       "<Figure size 800x600 with 1 Axes>"
      ]
     },
     "metadata": {},
     "output_type": "display_data"
    }
   ],
   "source": [
    "# Calculate AUC using probabilities\n",
    "roc_auc = roc_auc_score(y_test, y_proba)\n",
    "print(f\"AUC: {auc:.2f}\")\n",
    "\n",
    "# Calculate ROC curve\n",
    "fpr, tpr, thresholds = roc_curve(y_test, y_proba)\n",
    "\n",
    "# Plot ROC curve\n",
    "plt.figure(figsize=(8, 6))\n",
    "plt.plot(fpr, tpr, color='darkorange', lw=2, label=f'ROC curve (area = {roc_auc:.2f})')\n",
    "plt.plot([0, 1], [0, 1], color='navy', lw=2, linestyle='--')  # Diagonal line (random classifier)\n",
    "plt.xlim([0.0, 1.0])\n",
    "plt.ylim([0.0, 1.05])\n",
    "plt.xlabel('False Positive Rate')\n",
    "plt.ylabel('True Positive Rate')\n",
    "plt.title('Receiver Operating Characteristic (ROC) Curve')\n",
    "plt.legend(loc=\"lower right\")\n",
    "plt.show()"
   ]
  },
  {
   "cell_type": "code",
   "execution_count": 33,
   "metadata": {},
   "outputs": [
    {
     "data": {
      "image/png": "[encoded data removed]",
      "text/plain": [
       "<Figure size 640x480 with 2 Axes>"
      ]
     },
     "metadata": {},
     "output_type": "display_data"
    }
   ],
   "source": [
    "# Adjust the threshold manually\n",
    "threshold = 0.3  # Lower threshold increases sensitivity to rare events\n",
    "y_pred_adjusted = (y_proba >= threshold).astype(float)\n",
    "\n",
    "\n",
    "# Generate the confusion matrix\n",
    "cm = confusion_matrix(y_test, y_pred_adjusted)\n",
    "\n",
    "# Display the confusion matrix\n",
    "disp = ConfusionMatrixDisplay(confusion_matrix=cm, display_labels=best_model.classes_)\n",
    "disp.plot(cmap='Blues')\n",
    "plt.title('Confusion Matrix')\n",
    "plt.show()"
   ]
  },
  {
   "cell_type": "markdown",
   "metadata": {},
   "source": [
    "Looking at the confusion matrix, we see that our model is doing a pretty good job of predicting which contestants are unlikely to be winners based on their stats and which contestants are in the running for a winner status. However, for the purposes of predicting the winner *this isn't helpful.* Since the stats are only determined when the gameplay is complete and the jury is determining who should win, it is likely that *all of the players have good stats* just based off of the fact that they *haven't yet been voted out.* Thus, we want to adjust the model to predict who will win **between finalists.**"
   ]
  },
  {
   "cell_type": "markdown",
   "metadata": {},
   "source": [
    "First, I'll test my theory and see how well our current model is predicting between finalists. To do so, I'll list the winner of each season and compare that to the predicted winner based on the probability from the model."
   ]
  },
  {
   "cell_type": "code",
   "execution_count": 36,
   "metadata": {},
   "outputs": [
    {
     "name": "stdout",
     "output_type": "stream",
     "text": [
      "    Season              winner    predicted_winner  correct\n",
      "0        1       Richard Hatch   Kelly Wiglesworth    False\n",
      "1        2         Tina Wesson         Tina Wesson     True\n",
      "2        3          Ethan Zohn          Ethan Zohn     True\n",
      "3        4      Vecepia Towery      Vecepia Towery     True\n",
      "4        5        Brian Heidik        Brian Heidik     True\n",
      "5        6       Jenna Morasca       Jenna Morasca     True\n",
      "6        7   Sandra Diaz-Twine   Sandra Diaz-Twine     True\n",
      "7        8        Amber Brkich  Boston Rob Mariano    False\n",
      "8        9     Chris Daugherty     Chris Daugherty     True\n",
      "9       10         Tom Westman         Tom Westman     True\n",
      "10      11    Danni Boatwright    Danni Boatwright     True\n",
      "11      12     Aras Baskauskas  Danielle DiLorenzo    False\n",
      "12      13            Yul Kwon          Ozzy Lusth    False\n",
      "13      14           Earl Cole           Earl Cole     True\n",
      "14      15         Todd Herzog       Amanda Kimmel    False\n",
      "15      16     Parvati Shallow       Amanda Kimmel    False\n",
      "16      17         Bob Crowley         Bob Crowley     True\n",
      "17      18         J.T. Thomas         J.T. Thomas     True\n",
      "18      19       Natalie White       Russell Hantz    False\n",
      "19      20   Sandra Diaz-Twine   Sandra Diaz-Twine     True\n",
      "20      21         Fabio Birza        Sash Lenahan    False\n",
      "21      22  Boston Rob Mariano   Natalie Tenerelli    False\n",
      "22      23       Sophie Clarke     Albert Destrade    False\n",
      "23      24        Kim Spradlin        Kim Spradlin     True\n",
      "24      25      Denise Stapley         Mike Skupin    False\n",
      "25      26        John Cochran        John Cochran     True\n",
      "26      27       Tyson Apostol       Tyson Apostol     True\n",
      "27      28        Tony Vlachos        Tony Vlachos     True\n",
      "28      29    Natalie Anderson    Natalie Anderson     True\n",
      "29      30       Mike Holloway       Mike Holloway     True\n",
      "30      31      Jeremy Collins      Jeremy Collins     True\n",
      "31      32  Michele Fitzgerald  Michele Fitzgerald     True\n",
      "32      33          Adam Klein          Adam Klein     True\n",
      "33      34        Sarah Lacina      Brad Culpepper    False\n",
      "34      35      Ben Driebergen      Ben Driebergen     True\n",
      "35      36     Wendell Holland     Domenick Abbate    False\n",
      "36      37         Nick Wilson         Nick Wilson     True\n",
      "37      38     Chris Underwood       Gavin Whitson    False\n",
      "38      39       Tommy Sheehan       Tommy Sheehan     True\n",
      "39      40        Tony Vlachos        Tony Vlachos     True\n",
      "40      41     Erika Casupanan     Erika Casupanan     True\n",
      "41      42     Maryanne Oketch     Maryanne Oketch     True\n",
      "42      43         Mike Gabler         Mike Gabler     True\n",
      "43      44      Yam Yam Arocho       Carolyn Wiger    False\n",
      "44      45      Dee Valladares      Austin Li Coon    False\n",
      "45      46        Kenzie Petty       Charlie Davis    False\n",
      "46      47       Rachel LaMont       Rachel LaMont     True\n"
     ]
    }
   ],
   "source": [
    "finalists = survivor_w_idols[survivor_w_idols['Finish']<4]\n",
    "warnings.filterwarnings(\"ignore\")\n",
    "\n",
    "win_probabilities = []\n",
    "\n",
    "features = ['VAP', 'VFB%', 'InChW%', 'TChW%', 'TRCW', 'idols_played', 'boots_avoided', 'new_era', 'idols_in_play', 'fire_challenge', 'returners']\n",
    "\n",
    "\n",
    "for index, row in finalists.iterrows():\n",
    "    # Extract the features for the current contestant\n",
    "    contestant_features = row[features].values.reshape(1, -1)\n",
    "\n",
    "    # Predict the probability of winning for this contestant\n",
    "    prob = best_model.predict_proba(contestant_features)[:, 1]  # Get probability of winning (class 1)\n",
    "\n",
    "    # Append the predicted probability to the list\n",
    "    win_probabilities.append(prob[0])\n",
    "\n",
    "finalists['win_probability'] = win_probabilities\n",
    "predicted_winners = []\n",
    "\n",
    "# Group by season\n",
    "for season, group in finalists.groupby('Season'):\n",
    "    # Get the player with the highest predicted win probability for this season\n",
    "    predicted_winner = group.loc[group['win_probability'].idxmax()]\n",
    "    \n",
    "    # Append the top player to the list\n",
    "    predicted_winners.append(predicted_winner[['contestant', 'Season']])\n",
    "\n",
    "# Create a new DataFrame with the top players\n",
    "predicted_winners_df = pd.DataFrame(predicted_winners)\n",
    "predicted_winners_df.rename(columns={'contestant':'predicted_winner'}, inplace=True)\n",
    "\n",
    "predicted_vs_actual = pd.merge(winners, predicted_winners_df, how='inner', on='Season')\n",
    "\n",
    "predicted_vs_actual.rename(columns={'contestant':'winner'}, inplace=True)\n",
    "\n",
    "predicted_vs_actual = predicted_vs_actual[['Season', 'winner', 'predicted_winner']]\n",
    "predicted_vs_actual['correct'] = predicted_vs_actual['winner'] == predicted_vs_actual['predicted_winner']\n",
    "print(predicted_vs_actual)"
   ]
  },
  {
   "cell_type": "markdown",
   "metadata": {},
   "source": [
    "I'll isolate to the test seasons to see how well the model is doing on the test data. We see that we have a 47% success rate, which is only slightly better than if we chose randomly between the three finalists."
   ]
  },
  {
   "cell_type": "code",
   "execution_count": 43,
   "metadata": {},
   "outputs": [
    {
     "data": {
      "text/html": [
       "<div>\n",
       "<style scoped>\n",
       "    .dataframe tbody tr th:only-of-type {\n",
       "        vertical-align: middle;\n",
       "    }\n",
       "\n",
       "    .dataframe tbody tr th {\n",
       "        vertical-align: top;\n",
       "    }\n",
       "\n",
       "    .dataframe thead th {\n",
       "        text-align: right;\n",
       "    }\n",
       "</style>\n",
       "<table border=\"1\" class=\"dataframe\">\n",
       "  <thead>\n",
       "    <tr style=\"text-align: right;\">\n",
       "      <th></th>\n",
       "      <th>Season</th>\n",
       "      <th>Winner</th>\n",
       "      <th>Predicted Winner</th>\n",
       "      <th>Correct</th>\n",
       "      <th>Train or Test</th>\n",
       "    </tr>\n",
       "  </thead>\n",
       "  <tbody>\n",
       "    <tr>\n",
       "      <th>2</th>\n",
       "      <td>3</td>\n",
       "      <td>Ethan Zohn</td>\n",
       "      <td>Ethan Zohn</td>\n",
       "      <td>True</td>\n",
       "      <td>test</td>\n",
       "    </tr>\n",
       "    <tr>\n",
       "      <th>7</th>\n",
       "      <td>8</td>\n",
       "      <td>Amber Brkich</td>\n",
       "      <td>Boston Rob Mariano</td>\n",
       "      <td>False</td>\n",
       "      <td>test</td>\n",
       "    </tr>\n",
       "    <tr>\n",
       "      <th>10</th>\n",
       "      <td>11</td>\n",
       "      <td>Danni Boatwright</td>\n",
       "      <td>Danni Boatwright</td>\n",
       "      <td>True</td>\n",
       "      <td>test</td>\n",
       "    </tr>\n",
       "    <tr>\n",
       "      <th>14</th>\n",
       "      <td>15</td>\n",
       "      <td>Todd Herzog</td>\n",
       "      <td>Amanda Kimmel</td>\n",
       "      <td>False</td>\n",
       "      <td>test</td>\n",
       "    </tr>\n",
       "    <tr>\n",
       "      <th>18</th>\n",
       "      <td>19</td>\n",
       "      <td>Natalie White</td>\n",
       "      <td>Russell Hantz</td>\n",
       "      <td>False</td>\n",
       "      <td>test</td>\n",
       "    </tr>\n",
       "    <tr>\n",
       "      <th>20</th>\n",
       "      <td>21</td>\n",
       "      <td>Fabio Birza</td>\n",
       "      <td>Sash Lenahan</td>\n",
       "      <td>False</td>\n",
       "      <td>test</td>\n",
       "    </tr>\n",
       "    <tr>\n",
       "      <th>21</th>\n",
       "      <td>22</td>\n",
       "      <td>Boston Rob Mariano</td>\n",
       "      <td>Natalie Tenerelli</td>\n",
       "      <td>False</td>\n",
       "      <td>test</td>\n",
       "    </tr>\n",
       "    <tr>\n",
       "      <th>22</th>\n",
       "      <td>23</td>\n",
       "      <td>Sophie Clarke</td>\n",
       "      <td>Albert Destrade</td>\n",
       "      <td>False</td>\n",
       "      <td>test</td>\n",
       "    </tr>\n",
       "    <tr>\n",
       "      <th>23</th>\n",
       "      <td>24</td>\n",
       "      <td>Kim Spradlin</td>\n",
       "      <td>Kim Spradlin</td>\n",
       "      <td>True</td>\n",
       "      <td>test</td>\n",
       "    </tr>\n",
       "    <tr>\n",
       "      <th>28</th>\n",
       "      <td>29</td>\n",
       "      <td>Natalie Anderson</td>\n",
       "      <td>Natalie Anderson</td>\n",
       "      <td>True</td>\n",
       "      <td>test</td>\n",
       "    </tr>\n",
       "    <tr>\n",
       "      <th>35</th>\n",
       "      <td>36</td>\n",
       "      <td>Wendell Holland</td>\n",
       "      <td>Domenick Abbate</td>\n",
       "      <td>False</td>\n",
       "      <td>test</td>\n",
       "    </tr>\n",
       "    <tr>\n",
       "      <th>37</th>\n",
       "      <td>38</td>\n",
       "      <td>Chris Underwood</td>\n",
       "      <td>Gavin Whitson</td>\n",
       "      <td>False</td>\n",
       "      <td>test</td>\n",
       "    </tr>\n",
       "    <tr>\n",
       "      <th>38</th>\n",
       "      <td>39</td>\n",
       "      <td>Tommy Sheehan</td>\n",
       "      <td>Tommy Sheehan</td>\n",
       "      <td>True</td>\n",
       "      <td>test</td>\n",
       "    </tr>\n",
       "    <tr>\n",
       "      <th>42</th>\n",
       "      <td>43</td>\n",
       "      <td>Mike Gabler</td>\n",
       "      <td>Mike Gabler</td>\n",
       "      <td>True</td>\n",
       "      <td>test</td>\n",
       "    </tr>\n",
       "    <tr>\n",
       "      <th>46</th>\n",
       "      <td>47</td>\n",
       "      <td>Rachel LaMont</td>\n",
       "      <td>Rachel LaMont</td>\n",
       "      <td>True</td>\n",
       "      <td>test</td>\n",
       "    </tr>\n",
       "  </tbody>\n",
       "</table>\n",
       "</div>"
      ],
      "text/plain": [
       "    Season              Winner    Predicted Winner  Correct Train or Test\n",
       "2        3          Ethan Zohn          Ethan Zohn     True          test\n",
       "7        8        Amber Brkich  Boston Rob Mariano    False          test\n",
       "10      11    Danni Boatwright    Danni Boatwright     True          test\n",
       "14      15         Todd Herzog       Amanda Kimmel    False          test\n",
       "18      19       Natalie White       Russell Hantz    False          test\n",
       "20      21         Fabio Birza        Sash Lenahan    False          test\n",
       "21      22  Boston Rob Mariano   Natalie Tenerelli    False          test\n",
       "22      23       Sophie Clarke     Albert Destrade    False          test\n",
       "23      24        Kim Spradlin        Kim Spradlin     True          test\n",
       "28      29    Natalie Anderson    Natalie Anderson     True          test\n",
       "35      36     Wendell Holland     Domenick Abbate    False          test\n",
       "37      38     Chris Underwood       Gavin Whitson    False          test\n",
       "38      39       Tommy Sheehan       Tommy Sheehan     True          test\n",
       "42      43         Mike Gabler         Mike Gabler     True          test\n",
       "46      47       Rachel LaMont       Rachel LaMont     True          test"
      ]
     },
     "execution_count": 43,
     "metadata": {},
     "output_type": "execute_result"
    }
   ],
   "source": [
    "predicted_vs_actual['set_type'] = predicted_vs_actual['Season'].apply(\n",
    "    lambda x: 'train' if x in train_seasons else 'test'\n",
    ")\n",
    "\n",
    "# Print the updated predicted_vs_actual DataFrame\n",
    "table = predicted_vs_actual[predicted_vs_actual['set_type']=='test']\n",
    "table.columns = ['Season', 'Winner', 'Predicted Winner', 'Correct', 'Train or Test']\n",
    "table"
   ]
  },
  {
   "cell_type": "markdown",
   "metadata": {},
   "source": [
    "To see if I can adjust this model, I'll repeat the modeling process, training and testing only on finalists instead of the entire group."
   ]
  },
  {
   "cell_type": "code",
   "execution_count": 44,
   "metadata": {},
   "outputs": [],
   "source": [
    "finalists = survivor_w_idols[survivor_w_idols['Finish']<4]\n",
    "\n",
    "features = ['VAP', 'VFB%', 'InChW%', 'TChW%', 'TRCW', 'idols_played', 'boots_avoided', 'new_era', 'idols_in_play', 'fire_challenge', 'returners', 'Season']\n",
    "target = ['Winner', 'Season']\n",
    "\n",
    "# Split the dataset into features and target\n",
    "X = finalists[features].astype(float)\n",
    "y = finalists[target].astype(float)\n",
    "\n",
    "# Set a random seed for reproducibility (optional)\n",
    "np.random.seed(27)\n",
    "\n",
    "# Shuffle the dataset based on seasons randomly\n",
    "unique_seasons = X['Season'].unique()\n",
    "np.random.shuffle(unique_seasons)\n",
    "\n",
    "# Choose the first 70% of the unique seasons for the training set and the remaining 30% for the testing set\n",
    "train_seasons = unique_seasons[:int(0.7 * len(unique_seasons))]\n",
    "test_seasons = unique_seasons[int(0.7 * len(unique_seasons)):]\n",
    "\n",
    "# Split data based on the random seasons\n",
    "X_train = X[X['Season'].isin(train_seasons)]\n",
    "X_test = X[X['Season'].isin(test_seasons)]\n",
    "y_train = y[y['Season'].isin(train_seasons)]\n",
    "y_test = y[y['Season'].isin(test_seasons)]\n",
    "\n",
    "# Drop the 'Season' column as it's no longer needed\n",
    "X_train = X_train.drop(columns=['Season'])\n",
    "X_test = X_test.drop(columns=['Season'])\n",
    "y_train = y_train.drop(columns=['Season'])\n",
    "y_test = y_test.drop(columns=['Season'])\n",
    "\n",
    "features = ['VAP', 'VFB%', 'InChW%', 'TChW%', 'TRCW', 'idols_played', 'boots_avoided', 'new_era', 'idols_in_play', 'fire_challenge', 'returners']\n"
   ]
  },
  {
   "cell_type": "code",
   "execution_count": 45,
   "metadata": {},
   "outputs": [
    {
     "name": "stdout",
     "output_type": "stream",
     "text": [
      "Fitting 5 folds for each of 6561 candidates, totalling 32805 fits\n",
      "Best parameters found:  {'colsample_bytree': 1.0, 'gamma': 0, 'learning_rate': 0.2, 'max_depth': 3, 'n_estimators': 20, 'reg_alpha': 0, 'reg_lambda': 1.5, 'subsample': 0.8}\n",
      "Test accuracy: 0.6666666666666666\n"
     ]
    }
   ],
   "source": [
    "# Define the parameter grid for XGBoost\n",
    "param_grid = {\n",
    "    'n_estimators': [10, 20, 30],        # Number of trees\n",
    "    'max_depth': [1, 2, 3],               # Maximum depth of a tree\n",
    "    'learning_rate': [0.01, 0.1, 0.2],     # Learning rate (shrinkage)\n",
    "    'subsample': [0.8, 0.9, 1.0],           # Subsample ratio of the training set\n",
    "    'colsample_bytree': [0.8, 0.9, 1.0],   # Subsample ratio of columns when constructing each tree\n",
    "    'gamma': [0, 0.1, 0.2],                # Minimum loss reduction required to make a further partition\n",
    "    'reg_alpha': [0, 0.1, 1],              # L1 regularization term on weights\n",
    "    'reg_lambda': [1, 1.5, 2]              # L2 regularization term on weights\n",
    "}\n",
    "\n",
    "# Initialize the XGBoost classifier\n",
    "model = XGBClassifier(random_state=42)\n",
    "\n",
    "# Set up GridSearchCV\n",
    "grid_search = GridSearchCV(estimator=model, param_grid=param_grid, \n",
    "                           scoring='roc_auc', cv=5, n_jobs=-1, verbose=1)\n",
    "\n",
    "# Fit GridSearchCV on the training data\n",
    "grid_search.fit(X_train, y_train)\n",
    "\n",
    "# Best parameters found by GridSearchCV\n",
    "print(\"Best parameters found: \", grid_search.best_params_)\n",
    "\n",
    "# Get the best model from grid search\n",
    "best_model = grid_search.best_estimator_\n",
    "\n",
    "# Train the best model\n",
    "best_model.fit(X_train, y_train)\n",
    "\n",
    "# Evaluate the model on the test set\n",
    "print(f\"Test accuracy: {best_model.score(X_test, y_test)}\")"
   ]
  },
  {
   "cell_type": "code",
   "execution_count": 46,
   "metadata": {},
   "outputs": [
    {
     "data": {
      "image/png": "[encoded data removed]",
      "text/plain": [
       "<Figure size 800x600 with 1 Axes>"
      ]
     },
     "metadata": {},
     "output_type": "display_data"
    }
   ],
   "source": [
    "# Get prediction probabilities\n",
    "y_proba = best_model.predict_proba(X_test)[:, 1]\n",
    "y_pred = best_model.predict(X_test)\n",
    "y_test = y_test.astype(float)\n",
    "\n",
    "# Calculate ROC curve\n",
    "fpr, tpr, thresholds = roc_curve(y_test, y_proba)\n",
    "\n",
    "# Plot ROC curve\n",
    "plt.figure(figsize=(8, 6))\n",
    "plt.plot(fpr, tpr, color='darkorange', lw=2, label=f'ROC curve (area = {roc_auc:.2f})')\n",
    "plt.plot([0, 1], [0, 1], color='navy', lw=2, linestyle='--')  # Diagonal line (random classifier)\n",
    "plt.xlim([0.0, 1.0])\n",
    "plt.ylim([0.0, 1.05])\n",
    "plt.xlabel('False Positive Rate')\n",
    "plt.ylabel('True Positive Rate')\n",
    "plt.title('Receiver Operating Characteristic (ROC) Curve')\n",
    "plt.legend(loc=\"lower right\")\n",
    "plt.show()"
   ]
  },
  {
   "cell_type": "code",
   "execution_count": 47,
   "metadata": {},
   "outputs": [
    {
     "data": {
      "image/png": "[encoded data removed]",
      "text/plain": [
       "<Figure size 640x480 with 2 Axes>"
      ]
     },
     "metadata": {},
     "output_type": "display_data"
    }
   ],
   "source": [
    "# Adjust the threshold manually\n",
    "threshold = 0.35  # Lower threshold increases sensitivity to rare events\n",
    "y_pred_adjusted = (y_proba >= threshold).astype(float)\n",
    "\n",
    "\n",
    "# Generate the confusion matrix\n",
    "cm = confusion_matrix(y_test, y_pred_adjusted)\n",
    "\n",
    "# Display the confusion matrix\n",
    "disp = ConfusionMatrixDisplay(confusion_matrix=cm, display_labels=best_model.classes_)\n",
    "disp.plot(cmap='Blues')\n",
    "plt.title('Confusion Matrix')\n",
    "plt.show()"
   ]
  },
  {
   "cell_type": "code",
   "execution_count": 48,
   "metadata": {},
   "outputs": [
    {
     "name": "stdout",
     "output_type": "stream",
     "text": [
      "    Season              winner    predicted_winner  correct\n",
      "0        1       Richard Hatch       Richard Hatch     True\n",
      "1        2         Tina Wesson         Tina Wesson     True\n",
      "2        3          Ethan Zohn          Ethan Zohn     True\n",
      "3        4      Vecepia Towery      Vecepia Towery     True\n",
      "4        5        Brian Heidik        Brian Heidik     True\n",
      "5        6       Jenna Morasca       Jenna Morasca     True\n",
      "6        7   Sandra Diaz-Twine   Sandra Diaz-Twine     True\n",
      "7        8        Amber Brkich        Amber Brkich     True\n",
      "8        9     Chris Daugherty     Chris Daugherty     True\n",
      "9       10         Tom Westman         Tom Westman     True\n",
      "10      11    Danni Boatwright    Danni Boatwright     True\n",
      "11      12     Aras Baskauskas     Aras Baskauskas     True\n",
      "12      13            Yul Kwon          Ozzy Lusth    False\n",
      "13      14           Earl Cole  Cassandra Franklin    False\n",
      "14      15         Todd Herzog         Todd Herzog     True\n",
      "15      16     Parvati Shallow       Amanda Kimmel    False\n",
      "16      17         Bob Crowley         Bob Crowley     True\n",
      "17      18         J.T. Thomas         J.T. Thomas     True\n",
      "18      19       Natalie White       Natalie White     True\n",
      "19      20   Sandra Diaz-Twine       Russell Hantz    False\n",
      "20      21         Fabio Birza         Fabio Birza     True\n",
      "21      22  Boston Rob Mariano  Boston Rob Mariano     True\n",
      "22      23       Sophie Clarke       Sophie Clarke     True\n",
      "23      24        Kim Spradlin        Kim Spradlin     True\n",
      "24      25      Denise Stapley         Mike Skupin    False\n",
      "25      26        John Cochran        John Cochran     True\n",
      "26      27       Tyson Apostol       Tyson Apostol     True\n",
      "27      28        Tony Vlachos        Tony Vlachos     True\n",
      "28      29    Natalie Anderson    Natalie Anderson     True\n",
      "29      30       Mike Holloway       Mike Holloway     True\n",
      "30      31      Jeremy Collins      Jeremy Collins     True\n",
      "31      32  Michele Fitzgerald        Aubry Bracco    False\n",
      "32      33          Adam Klein          Adam Klein     True\n",
      "33      34        Sarah Lacina        Sarah Lacina     True\n",
      "34      35      Ben Driebergen      Ben Driebergen     True\n",
      "35      36     Wendell Holland     Wendell Holland     True\n",
      "36      37         Nick Wilson         Nick Wilson     True\n",
      "37      38     Chris Underwood     Chris Underwood     True\n",
      "38      39       Tommy Sheehan       Dean Kowalski    False\n",
      "39      40        Tony Vlachos        Tony Vlachos     True\n",
      "40      41     Erika Casupanan     Erika Casupanan     True\n",
      "41      42     Maryanne Oketch     Maryanne Oketch     True\n",
      "42      43         Mike Gabler         Mike Gabler     True\n",
      "43      44      Yam Yam Arocho      Yam Yam Arocho     True\n",
      "44      45      Dee Valladares      Austin Li Coon    False\n",
      "45      46        Kenzie Petty        Kenzie Petty     True\n",
      "46      47       Rachel LaMont       Rachel LaMont     True\n"
     ]
    }
   ],
   "source": [
    "win_probabilities = []\n",
    "\n",
    "for index, row in finalists.iterrows():\n",
    "    # Extract the features for the current contestant\n",
    "    contestant_features = row[features].values.reshape(1, -1)\n",
    "\n",
    "    # Predict the probability of winning for this contestant\n",
    "    prob = best_model.predict_proba(contestant_features)[:, 1]  # Get probability of winning (class 1)\n",
    "\n",
    "    # Append the predicted probability to the list\n",
    "    win_probabilities.append(prob[0])\n",
    "\n",
    "finalists['win_probability'] = win_probabilities\n",
    "predicted_winners = []\n",
    "\n",
    "# Group by season\n",
    "for season, group in finalists.groupby('Season'):\n",
    "    # Get the player with the highest predicted win probability for this season\n",
    "    predicted_winner = group.loc[group['win_probability'].idxmax()]\n",
    "    \n",
    "    # Append the top player to the list\n",
    "    predicted_winners.append(predicted_winner[['contestant', 'Season']])\n",
    "\n",
    "# Create a new DataFrame with the top players\n",
    "predicted_winners_df = pd.DataFrame(predicted_winners)\n",
    "predicted_winners_df.rename(columns={'contestant':'predicted_winner'}, inplace=True)\n",
    "\n",
    "predicted_vs_actual = pd.merge(winners, predicted_winners_df, how='inner', on='Season')\n",
    "\n",
    "predicted_vs_actual.rename(columns={'contestant':'winner'}, inplace=True)\n",
    "\n",
    "predicted_vs_actual = predicted_vs_actual[['Season', 'winner', 'predicted_winner']]\n",
    "predicted_vs_actual['correct'] = predicted_vs_actual['winner'] == predicted_vs_actual['predicted_winner']\n",
    "print(predicted_vs_actual)"
   ]
  },
  {
   "cell_type": "code",
   "execution_count": 49,
   "metadata": {},
   "outputs": [
    {
     "data": {
      "text/html": [
       "<div>\n",
       "<style scoped>\n",
       "    .dataframe tbody tr th:only-of-type {\n",
       "        vertical-align: middle;\n",
       "    }\n",
       "\n",
       "    .dataframe tbody tr th {\n",
       "        vertical-align: top;\n",
       "    }\n",
       "\n",
       "    .dataframe thead th {\n",
       "        text-align: right;\n",
       "    }\n",
       "</style>\n",
       "<table border=\"1\" class=\"dataframe\">\n",
       "  <thead>\n",
       "    <tr style=\"text-align: right;\">\n",
       "      <th></th>\n",
       "      <th>Season</th>\n",
       "      <th>Winner</th>\n",
       "      <th>Predicted Winner</th>\n",
       "      <th>Correct</th>\n",
       "      <th>Set Type</th>\n",
       "    </tr>\n",
       "  </thead>\n",
       "  <tbody>\n",
       "    <tr>\n",
       "      <th>2</th>\n",
       "      <td>3</td>\n",
       "      <td>Ethan Zohn</td>\n",
       "      <td>Ethan Zohn</td>\n",
       "      <td>True</td>\n",
       "      <td>test</td>\n",
       "    </tr>\n",
       "    <tr>\n",
       "      <th>4</th>\n",
       "      <td>5</td>\n",
       "      <td>Brian Heidik</td>\n",
       "      <td>Brian Heidik</td>\n",
       "      <td>True</td>\n",
       "      <td>test</td>\n",
       "    </tr>\n",
       "    <tr>\n",
       "      <th>8</th>\n",
       "      <td>9</td>\n",
       "      <td>Chris Daugherty</td>\n",
       "      <td>Chris Daugherty</td>\n",
       "      <td>True</td>\n",
       "      <td>test</td>\n",
       "    </tr>\n",
       "    <tr>\n",
       "      <th>10</th>\n",
       "      <td>11</td>\n",
       "      <td>Danni Boatwright</td>\n",
       "      <td>Danni Boatwright</td>\n",
       "      <td>True</td>\n",
       "      <td>test</td>\n",
       "    </tr>\n",
       "    <tr>\n",
       "      <th>13</th>\n",
       "      <td>14</td>\n",
       "      <td>Earl Cole</td>\n",
       "      <td>Cassandra Franklin</td>\n",
       "      <td>False</td>\n",
       "      <td>test</td>\n",
       "    </tr>\n",
       "    <tr>\n",
       "      <th>15</th>\n",
       "      <td>16</td>\n",
       "      <td>Parvati Shallow</td>\n",
       "      <td>Amanda Kimmel</td>\n",
       "      <td>False</td>\n",
       "      <td>test</td>\n",
       "    </tr>\n",
       "    <tr>\n",
       "      <th>19</th>\n",
       "      <td>20</td>\n",
       "      <td>Sandra Diaz-Twine</td>\n",
       "      <td>Russell Hantz</td>\n",
       "      <td>False</td>\n",
       "      <td>test</td>\n",
       "    </tr>\n",
       "    <tr>\n",
       "      <th>24</th>\n",
       "      <td>25</td>\n",
       "      <td>Denise Stapley</td>\n",
       "      <td>Mike Skupin</td>\n",
       "      <td>False</td>\n",
       "      <td>test</td>\n",
       "    </tr>\n",
       "    <tr>\n",
       "      <th>25</th>\n",
       "      <td>26</td>\n",
       "      <td>John Cochran</td>\n",
       "      <td>John Cochran</td>\n",
       "      <td>True</td>\n",
       "      <td>test</td>\n",
       "    </tr>\n",
       "    <tr>\n",
       "      <th>31</th>\n",
       "      <td>32</td>\n",
       "      <td>Michele Fitzgerald</td>\n",
       "      <td>Aubry Bracco</td>\n",
       "      <td>False</td>\n",
       "      <td>test</td>\n",
       "    </tr>\n",
       "    <tr>\n",
       "      <th>33</th>\n",
       "      <td>34</td>\n",
       "      <td>Sarah Lacina</td>\n",
       "      <td>Sarah Lacina</td>\n",
       "      <td>True</td>\n",
       "      <td>test</td>\n",
       "    </tr>\n",
       "    <tr>\n",
       "      <th>37</th>\n",
       "      <td>38</td>\n",
       "      <td>Chris Underwood</td>\n",
       "      <td>Chris Underwood</td>\n",
       "      <td>True</td>\n",
       "      <td>test</td>\n",
       "    </tr>\n",
       "    <tr>\n",
       "      <th>38</th>\n",
       "      <td>39</td>\n",
       "      <td>Tommy Sheehan</td>\n",
       "      <td>Dean Kowalski</td>\n",
       "      <td>False</td>\n",
       "      <td>test</td>\n",
       "    </tr>\n",
       "    <tr>\n",
       "      <th>44</th>\n",
       "      <td>45</td>\n",
       "      <td>Dee Valladares</td>\n",
       "      <td>Austin Li Coon</td>\n",
       "      <td>False</td>\n",
       "      <td>test</td>\n",
       "    </tr>\n",
       "    <tr>\n",
       "      <th>46</th>\n",
       "      <td>47</td>\n",
       "      <td>Rachel LaMont</td>\n",
       "      <td>Rachel LaMont</td>\n",
       "      <td>True</td>\n",
       "      <td>test</td>\n",
       "    </tr>\n",
       "  </tbody>\n",
       "</table>\n",
       "</div>"
      ],
      "text/plain": [
       "    Season              Winner    Predicted Winner  Correct Set Type\n",
       "2        3          Ethan Zohn          Ethan Zohn     True     test\n",
       "4        5        Brian Heidik        Brian Heidik     True     test\n",
       "8        9     Chris Daugherty     Chris Daugherty     True     test\n",
       "10      11    Danni Boatwright    Danni Boatwright     True     test\n",
       "13      14           Earl Cole  Cassandra Franklin    False     test\n",
       "15      16     Parvati Shallow       Amanda Kimmel    False     test\n",
       "19      20   Sandra Diaz-Twine       Russell Hantz    False     test\n",
       "24      25      Denise Stapley         Mike Skupin    False     test\n",
       "25      26        John Cochran        John Cochran     True     test\n",
       "31      32  Michele Fitzgerald        Aubry Bracco    False     test\n",
       "33      34        Sarah Lacina        Sarah Lacina     True     test\n",
       "37      38     Chris Underwood     Chris Underwood     True     test\n",
       "38      39       Tommy Sheehan       Dean Kowalski    False     test\n",
       "44      45      Dee Valladares      Austin Li Coon    False     test\n",
       "46      47       Rachel LaMont       Rachel LaMont     True     test"
      ]
     },
     "execution_count": 49,
     "metadata": {},
     "output_type": "execute_result"
    }
   ],
   "source": [
    "predicted_vs_actual['set_type'] = predicted_vs_actual['Season'].apply(\n",
    "    lambda x: 'train' if x in train_seasons else 'test'\n",
    ")\n",
    "\n",
    "# Print the updated predicted_vs_actual DataFrame\n",
    "table = predicted_vs_actual[predicted_vs_actual['set_type']=='test']\n",
    "table.columns = ['Season', 'Winner', 'Predicted Winner', 'Correct', 'Set Type']\n",
    "table"
   ]
  },
  {
   "cell_type": "markdown",
   "metadata": {},
   "source": [
    "We see that once again, our model only predicts the winner about 40% of the time. While it's disappointing to not be able to guess the winner correctly every time (and brag to my friends and family about my skills), it's interesting to see that the winner isn't determined solely by how well they do at challenges, voting, and idol play. There must be something intangible about these players that makes them a sole survivor!!"
   ]
  },
  {
   "cell_type": "markdown",
   "metadata": {},
   "source": [
    "To test this final theory, I created a logistic regression to see which factors are most statistically significant in determining a winner between the finalists."
   ]
  },
  {
   "cell_type": "code",
   "execution_count": 50,
   "metadata": {},
   "outputs": [],
   "source": [
    "finalists = survivor_w_idols[survivor_w_idols['Finish']<4]\n",
    "\n",
    "features = ['VAP', 'VFB%', 'InChW%','TChW%', 'idols_played']\n",
    "#, 'new_era', 'idols_in_play', 'fire_challenge', 'returners']\n",
    "target = 'Winner' \n",
    "\n",
    "# Split the dataset into features and target\n",
    "X = finalists[features].astype(float)\n",
    "y = finalists[target].astype(float)\n",
    "\n",
    "# Split the data into training and testing sets (70% training, 30% testing)\n",
    "X_train, X_test, y_train, y_test = train_test_split(X, y, test_size=0.3, random_state=42)"
   ]
  },
  {
   "cell_type": "code",
   "execution_count": 51,
   "metadata": {},
   "outputs": [
    {
     "name": "stdout",
     "output_type": "stream",
     "text": [
      "Optimization terminated successfully.\n",
      "         Current function value: 0.532295\n",
      "         Iterations 6\n"
     ]
    }
   ],
   "source": [
    "features = ['VAP', 'VFB%', 'InChW%','TChW%', 'idols_played']\n",
    "\n",
    "# Add constant to the features for the intercept term (for statsmodels)\n",
    "X_train = X_train[features]\n",
    "X_train_with_intercept = sm.add_constant(X_train)\n",
    "X_test_with_intercept = sm.add_constant(X_test)\n",
    "\n",
    "# Fit the model using statsmodels for coefficients and p-values\n",
    "logit_model = sm.Logit(y_train, X_train_with_intercept)\n",
    "result = logit_model.fit()\n"
   ]
  },
  {
   "cell_type": "code",
   "execution_count": 52,
   "metadata": {},
   "outputs": [
    {
     "data": {
      "text/html": [
       "<div>\n",
       "<style scoped>\n",
       "    .dataframe tbody tr th:only-of-type {\n",
       "        vertical-align: middle;\n",
       "    }\n",
       "\n",
       "    .dataframe tbody tr th {\n",
       "        vertical-align: top;\n",
       "    }\n",
       "\n",
       "    .dataframe thead th {\n",
       "        text-align: right;\n",
       "    }\n",
       "</style>\n",
       "<table border=\"1\" class=\"dataframe\">\n",
       "  <thead>\n",
       "    <tr style=\"text-align: right;\">\n",
       "      <th></th>\n",
       "      <th>Coefficient</th>\n",
       "      <th>P-value</th>\n",
       "    </tr>\n",
       "  </thead>\n",
       "  <tbody>\n",
       "    <tr>\n",
       "      <th>const</th>\n",
       "      <td>-2.618958</td>\n",
       "      <td>0.100071</td>\n",
       "    </tr>\n",
       "    <tr>\n",
       "      <th>VAP</th>\n",
       "      <td>-0.176415</td>\n",
       "      <td>0.076055</td>\n",
       "    </tr>\n",
       "    <tr>\n",
       "      <th>VFB%</th>\n",
       "      <td>1.669681</td>\n",
       "      <td>0.314696</td>\n",
       "    </tr>\n",
       "    <tr>\n",
       "      <th>InChW%</th>\n",
       "      <td>0.489819</td>\n",
       "      <td>0.742411</td>\n",
       "    </tr>\n",
       "    <tr>\n",
       "      <th>TChW%</th>\n",
       "      <td>0.936063</td>\n",
       "      <td>0.562055</td>\n",
       "    </tr>\n",
       "    <tr>\n",
       "      <th>idols_played</th>\n",
       "      <td>0.924811</td>\n",
       "      <td>0.010817</td>\n",
       "    </tr>\n",
       "  </tbody>\n",
       "</table>\n",
       "</div>"
      ],
      "text/plain": [
       "              Coefficient   P-value\n",
       "const           -2.618958  0.100071\n",
       "VAP             -0.176415  0.076055\n",
       "VFB%             1.669681  0.314696\n",
       "InChW%           0.489819  0.742411\n",
       "TChW%            0.936063  0.562055\n",
       "idols_played     0.924811  0.010817"
      ]
     },
     "execution_count": 52,
     "metadata": {},
     "output_type": "execute_result"
    }
   ],
   "source": [
    "# Get the coefficients and p-values\n",
    "coefficients = result.params\n",
    "p_values = result.pvalues\n",
    "\n",
    "# Create a DataFrame to display coefficients and p-values together\n",
    "coefficients_df = pd.DataFrame({\n",
    "    'Coefficient': coefficients,  # Exclude the intercept\n",
    "    'P-value': p_values          # Exclude the intercept\n",
    "})\n",
    "\n",
    "# Print the DataFrame with coefficients and p-values\n",
    "coefficients_df\n"
   ]
  },
  {
   "cell_type": "markdown",
   "metadata": {},
   "source": [
    "Based off of the coefficients and p-values, we see that the only statistically significant variable of the main gameplay stats is **number of idols played**. The other variables, votes against player, voting record, and challenge wins, are not statistically significant to a player's chance of winning. To me, this indicates that **the social game, an element that cannot be measured and analyzed, is more important than any of the measurable gameplay elements!**"
   ]
  }
 ],
 "metadata": {
  "kernelspec": {
   "display_name": "Python 3",
   "language": "python",
   "name": "python3"
  },
  "language_info": {
   "codemirror_mode": {
    "name": "ipython",
    "version": 3
   },
   "file_extension": ".py",
   "mimetype": "text/x-python",
   "name": "python",
   "nbconvert_exporter": "python",
   "pygments_lexer": "ipython3",
   "version": "3.11.11"
  }
 },
 "nbformat": 4,
 "nbformat_minor": 2
}
